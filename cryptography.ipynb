{
 "cells": [
  {
   "cell_type": "code",
   "execution_count": 1,
   "metadata": {},
   "outputs": [
    {
     "name": "stdout",
     "output_type": "stream",
     "text": [
      "Requirement already satisfied: cryptography in c:\\users\\prasa\\anaconda3\\lib\\site-packages (3.1.1)\n",
      "Requirement already satisfied: cffi!=1.11.3,>=1.8 in c:\\users\\prasa\\anaconda3\\lib\\site-packages (from cryptography) (1.14.3)\n",
      "Requirement already satisfied: six>=1.4.1 in c:\\users\\prasa\\anaconda3\\lib\\site-packages (from cryptography) (1.15.0)\n",
      "Requirement already satisfied: pycparser in c:\\users\\prasa\\anaconda3\\lib\\site-packages (from cffi!=1.11.3,>=1.8->cryptography) (2.20)\n"
     ]
    }
   ],
   "source": [
    "!pip install cryptography"
   ]
  },
  {
   "cell_type": "code",
   "execution_count": 2,
   "metadata": {},
   "outputs": [],
   "source": [
    "from cryptography.fernet import Fernet"
   ]
  },
  {
   "cell_type": "code",
   "execution_count": 16,
   "metadata": {},
   "outputs": [],
   "source": [
    "def genratePassKey():\n",
    "\tkey = Fernet.generate_key()\n",
    "\tprint(key)\n",
    "\tprint(type(key))\n",
    "\tabc = open(\"Prasadnewatm.key\",'wb')\n",
    "\tabc.write(key)\n",
    "\tabc.close()"
   ]
  },
  {
   "cell_type": "code",
   "execution_count": 17,
   "metadata": {},
   "outputs": [
    {
     "name": "stdout",
     "output_type": "stream",
     "text": [
      "b'LM9Xw-oBBuQ3_kk3IDnGsq21QRMRVY0YdiRL-Z3UppY='\n",
      "<class 'bytes'>\n"
     ]
    }
   ],
   "source": [
    "genratePassKey()"
   ]
  },
  {
   "cell_type": "code",
   "execution_count": 18,
   "metadata": {},
   "outputs": [],
   "source": [
    "def getMyKey():\n",
    "\tabc = open(\"prasadnewatm.key\",'rb')\n",
    "\tkey = abc.read()\n",
    "\tabc.close()\n",
    "\treturn key"
   ]
  },
  {
   "cell_type": "code",
   "execution_count": 19,
   "metadata": {},
   "outputs": [
    {
     "data": {
      "text/plain": [
       "b'LM9Xw-oBBuQ3_kk3IDnGsq21QRMRVY0YdiRL-Z3UppY='"
      ]
     },
     "execution_count": 19,
     "metadata": {},
     "output_type": "execute_result"
    }
   ],
   "source": [
    "getMyKey()"
   ]
  },
  {
   "cell_type": "code",
   "execution_count": 20,
   "metadata": {},
   "outputs": [],
   "source": [
    "def getContentFromUser():\n",
    "\treturn input(\"Enter the Content you want to Encrypt in your python Script\")"
   ]
  },
  {
   "cell_type": "code",
   "execution_count": 21,
   "metadata": {},
   "outputs": [
    {
     "name": "stdout",
     "output_type": "stream",
     "text": [
      "Enter the Content you want to Encrypt in your python Scripthello prasad your new pin is 8985\n"
     ]
    },
    {
     "data": {
      "text/plain": [
       "'hello prasad your new pin is 8985'"
      ]
     },
     "execution_count": 21,
     "metadata": {},
     "output_type": "execute_result"
    }
   ],
   "source": [
    "getContentFromUser()"
   ]
  },
  {
   "cell_type": "code",
   "execution_count": 22,
   "metadata": {},
   "outputs": [],
   "source": [
    "def encryptMessage(message_normal):\n",
    "\tkey = getMyKey()\n",
    "\tk = Fernet(key)\n",
    "\tencrypted_Message = k.encrypt(message_normal)\n",
    "\treturn encrypted_Message"
   ]
  },
  {
   "cell_type": "code",
   "execution_count": 24,
   "metadata": {},
   "outputs": [
    {
     "data": {
      "text/plain": [
       "b'gAAAAABf2zJ5GKhwlhNwbtNkc12DxtFRDuHRJ4XeUTv0NKuU4odwjlnXzOCOCmnOiyVkF6cbZdBMQr2w8DvnVEj9f15KzSQtPw=='"
      ]
     },
     "execution_count": 24,
     "metadata": {},
     "output_type": "execute_result"
    }
   ],
   "source": [
    "encryptMessage(b\"prasad\")"
   ]
  },
  {
   "cell_type": "code",
   "execution_count": 25,
   "metadata": {},
   "outputs": [],
   "source": [
    "def decryptMessage(message_secret):\n",
    "\tkey = getMyKey()\n",
    "\tk = Fernet(key)\n",
    "\tdecrypted_Message = k.decrypt(message_secret)\n",
    "\treturn decrypted_Message"
   ]
  },
  {
   "cell_type": "code",
   "execution_count": 26,
   "metadata": {},
   "outputs": [
    {
     "data": {
      "text/plain": [
       "b'prasad'"
      ]
     },
     "execution_count": 26,
     "metadata": {},
     "output_type": "execute_result"
    }
   ],
   "source": [
    "decryptMessage(b'gAAAAABf2zJ5GKhwlhNwbtNkc12DxtFRDuHRJ4XeUTv0NKuU4odwjlnXzOCOCmnOiyVkF6cbZdBMQr2w8DvnVEj9f15KzSQtPw==')"
   ]
  },
  {
   "cell_type": "code",
   "execution_count": null,
   "metadata": {},
   "outputs": [],
   "source": []
  }
 ],
 "metadata": {
  "kernelspec": {
   "display_name": "Python 3",
   "language": "python",
   "name": "python3"
  },
  "language_info": {
   "codemirror_mode": {
    "name": "ipython",
    "version": 3
   },
   "file_extension": ".py",
   "mimetype": "text/x-python",
   "name": "python",
   "nbconvert_exporter": "python",
   "pygments_lexer": "ipython3",
   "version": "3.8.5"
  }
 },
 "nbformat": 4,
 "nbformat_minor": 4
}
